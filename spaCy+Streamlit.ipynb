{
  "nbformat": 4,
  "nbformat_minor": 0,
  "metadata": {
    "colab": {
      "name": "spaCy+Streamlit.ipynb",
      "provenance": [],
      "authorship_tag": "ABX9TyOWPc6yqoiopHCWl/U3WXKV",
      "include_colab_link": true
    },
    "kernelspec": {
      "name": "python3",
      "display_name": "Python 3"
    }
  },
  "cells": [
    {
      "cell_type": "markdown",
      "metadata": {
        "id": "view-in-github",
        "colab_type": "text"
      },
      "source": [
        "<a href=\"https://colab.research.google.com/github/divyansh1122/interesting_projects/blob/main/spaCy%2BStreamlit.ipynb\" target=\"_parent\"><img src=\"https://colab.research.google.com/assets/colab-badge.svg\" alt=\"Open In Colab\"/></a>"
      ]
    },
    {
      "cell_type": "code",
      "metadata": {
        "id": "jFexTYPMne4A"
      },
      "source": [
        "!pip install streamlit\n"
      ],
      "execution_count": null,
      "outputs": []
    },
    {
      "cell_type": "code",
      "metadata": {
        "colab": {
          "base_uri": "https://localhost:8080/"
        },
        "id": "_dY0re9qpAMB",
        "outputId": "6bd727ea-962e-47a3-e7ea-0f629fd65f24"
      },
      "source": [
        "!pip install pyngrok"
      ],
      "execution_count": 4,
      "outputs": [
        {
          "output_type": "stream",
          "text": [
            "Collecting pyngrok\n",
            "  Downloading https://files.pythonhosted.org/packages/e2/19/af0fc6c11cc13f8a31e9dbec21af745337be8a40b5738cd30f08a483eac3/pyngrok-5.0.1.tar.gz\n",
            "Requirement already satisfied: PyYAML in /usr/local/lib/python3.6/dist-packages (from pyngrok) (3.13)\n",
            "Building wheels for collected packages: pyngrok\n",
            "  Building wheel for pyngrok (setup.py) ... \u001b[?25l\u001b[?25hdone\n",
            "  Created wheel for pyngrok: filename=pyngrok-5.0.1-cp36-none-any.whl size=18822 sha256=99cdae7242e2b22e87e3374495f4c6a439f1856331c2f3d0d1555d1fe1a6cc78\n",
            "  Stored in directory: /root/.cache/pip/wheels/94/01/05/d39efb8f6b40a411354b4168ca9dda99e6f8d586e458e97551\n",
            "Successfully built pyngrok\n",
            "Installing collected packages: pyngrok\n",
            "Successfully installed pyngrok-5.0.1\n"
          ],
          "name": "stdout"
        }
      ]
    },
    {
      "cell_type": "code",
      "metadata": {
        "colab": {
          "base_uri": "https://localhost:8080/"
        },
        "id": "aOe0sh7-qdZ4",
        "outputId": "3c83d85c-85c4-44e6-e9ec-b8623cc736c9"
      },
      "source": [
        "%%writefile app.py\n",
        "import streamlit as st\n",
        "\n",
        "def main():\n",
        "    st.title(\"NLP Text with Streamlit2\")\n",
        "\n",
        "\n",
        "if __name__ == '__main__':\n",
        "    main()"
      ],
      "execution_count": 32,
      "outputs": [
        {
          "output_type": "stream",
          "text": [
            "Overwriting app.py\n"
          ],
          "name": "stdout"
        }
      ]
    },
    {
      "cell_type": "code",
      "metadata": {
        "colab": {
          "base_uri": "https://localhost:8080/"
        },
        "id": "4dgTch2FpWGf",
        "outputId": "57bc2559-f565-484b-93bd-e0f4fe79784b"
      },
      "source": [
        "!ls"
      ],
      "execution_count": 18,
      "outputs": [
        {
          "output_type": "stream",
          "text": [
            "app.py\tsample_data\n"
          ],
          "name": "stdout"
        }
      ]
    },
    {
      "cell_type": "code",
      "metadata": {
        "colab": {
          "base_uri": "https://localhost:8080/"
        },
        "id": "FRU-0gx9oA2q",
        "outputId": "fc8ac61d-4a0f-4c75-a79b-a45a2923aafb"
      },
      "source": [
        "!ngrok authtoken 1myjWXf9NvHg5TTGTM9jz3F0Nsl_4Yrt7x3dXN22A44mHeTFo"
      ],
      "execution_count": 7,
      "outputs": [
        {
          "output_type": "stream",
          "text": [
            "Authtoken saved to configuration file: /root/.ngrok2/ngrok.yml\n"
          ],
          "name": "stdout"
        }
      ]
    },
    {
      "cell_type": "code",
      "metadata": {
        "id": "YA_mK35cn3HB"
      },
      "source": [
        "from pyngrok import ngrok"
      ],
      "execution_count": 8,
      "outputs": []
    },
    {
      "cell_type": "code",
      "metadata": {
        "colab": {
          "base_uri": "https://localhost:8080/"
        },
        "id": "QuDsQiHOr9iz",
        "outputId": "7a4906d4-5c6f-4e4b-9732-994aa9e30614"
      },
      "source": [
        "# !nohup streamlit run app.py\n",
        "!nohup streamlit run --server.port 80 app.py& >/dev/null&"
      ],
      "execution_count": 28,
      "outputs": [
        {
          "output_type": "stream",
          "text": [
            "nohup: appending output to 'nohup.out'\n"
          ],
          "name": "stdout"
        }
      ]
    },
    {
      "cell_type": "code",
      "metadata": {
        "colab": {
          "base_uri": "https://localhost:8080/"
        },
        "id": "kjUAVVRhs2Xw",
        "outputId": "c687ceb7-1ac2-424f-f627-e4235e42c426"
      },
      "source": [
        "!pgrep streamlit"
      ],
      "execution_count": 29,
      "outputs": [
        {
          "output_type": "stream",
          "text": [
            "314\n",
            "494\n",
            "549\n",
            "602\n",
            "630\n"
          ],
          "name": "stdout"
        }
      ]
    },
    {
      "cell_type": "code",
      "metadata": {
        "id": "71D68IAexxOy"
      },
      "source": [
        "!kill 314 494 549"
      ],
      "execution_count": 24,
      "outputs": []
    },
    {
      "cell_type": "code",
      "metadata": {
        "colab": {
          "base_uri": "https://localhost:8080/"
        },
        "id": "4aXgW_DSr0Tz",
        "outputId": "92e8a671-b48d-4ebc-cc8d-42b4d7751605"
      },
      "source": [
        "public_url = ngrok.connect(port='8501')"
      ],
      "execution_count": 30,
      "outputs": [
        {
          "output_type": "stream",
          "text": [
            "2021-01-12 18:09:42.010 INFO    pyngrok.ngrok: Opening tunnel named: http-80-a218ba6b-4dca-49bc-9ef9-0f716a1ccb3d\n",
            "2021-01-12 18:09:42.032 INFO    pyngrok.process.ngrok: t=2021-01-12T18:09:42+0000 lvl=info msg=\"no configuration paths supplied\"\n",
            "2021-01-12 18:09:42.038 INFO    pyngrok.process.ngrok: t=2021-01-12T18:09:42+0000 lvl=info msg=\"using configuration at default config path\" path=/root/.ngrok2/ngrok.yml\n",
            "2021-01-12 18:09:42.043 INFO    pyngrok.process.ngrok: t=2021-01-12T18:09:42+0000 lvl=info msg=\"open config file\" path=/root/.ngrok2/ngrok.yml err=nil\n",
            "2021-01-12 18:09:42.044 INFO    pyngrok.process.ngrok: t=2021-01-12T18:09:42+0000 lvl=info msg=\"starting web service\" obj=web addr=127.0.0.1:4040\n",
            "2021-01-12 18:09:42.833 INFO    pyngrok.process.ngrok: t=2021-01-12T18:09:42+0000 lvl=info msg=\"tunnel session started\" obj=tunnels.session\n",
            "2021-01-12 18:09:42.836 INFO    pyngrok.process.ngrok: t=2021-01-12T18:09:42+0000 lvl=info msg=\"client session established\" obj=csess id=5aad310ca5ef\n",
            "2021-01-12 18:09:42.843 INFO    pyngrok.process.ngrok: t=2021-01-12T18:09:42+0000 lvl=info msg=start pg=/api/tunnels id=acad55a14e31d84f\n",
            "2021-01-12 18:09:42.845 INFO    pyngrok.process.ngrok: t=2021-01-12T18:09:42+0000 lvl=info msg=end pg=/api/tunnels id=acad55a14e31d84f status=200 dur=758.739µs\n",
            "2021-01-12 18:09:42.848 INFO    pyngrok.process.ngrok: t=2021-01-12T18:09:42+0000 lvl=info msg=start pg=/api/tunnels id=8cd38717a547f634\n",
            "2021-01-12 18:09:42.849 INFO    pyngrok.process.ngrok: t=2021-01-12T18:09:42+0000 lvl=info msg=end pg=/api/tunnels id=8cd38717a547f634 status=200 dur=129.822µs\n",
            "2021-01-12 18:09:42.851 INFO    pyngrok.process.ngrok: t=2021-01-12T18:09:42+0000 lvl=info msg=start pg=/api/tunnels id=9e84c5ab8403fb38\n",
            "2021-01-12 18:09:43.223 INFO    pyngrok.process.ngrok: t=2021-01-12T18:09:43+0000 lvl=info msg=\"started tunnel\" obj=tunnels name=\"http-80-a218ba6b-4dca-49bc-9ef9-0f716a1ccb3d (http)\" addr=http://localhost:80 url=http://3204a7bdbf64.ngrok.io\n",
            "2021-01-12 18:09:43.225 INFO    pyngrok.process.ngrok: t=2021-01-12T18:09:43+0000 lvl=info msg=\"started tunnel\" obj=tunnels name=http-80-a218ba6b-4dca-49bc-9ef9-0f716a1ccb3d addr=http://localhost:80 url=https://3204a7bdbf64.ngrok.io\n",
            "2021-01-12 18:09:43.228 INFO    pyngrok.process.ngrok: t=2021-01-12T18:09:43+0000 lvl=info msg=end pg=/api/tunnels id=9e84c5ab8403fb38 status=201 dur=379.045928ms\n",
            "2021-01-12 18:09:43.229 INFO    pyngrok.process.ngrok: t=2021-01-12T18:09:43+0000 lvl=info msg=start pg=\"/api/tunnels/http-80-a218ba6b-4dca-49bc-9ef9-0f716a1ccb3d (http)\" id=c6ea16239c7fcfbc\n",
            "2021-01-12 18:09:43.230 INFO    pyngrok.process.ngrok: t=2021-01-12T18:09:43+0000 lvl=info msg=end pg=\"/api/tunnels/http-80-a218ba6b-4dca-49bc-9ef9-0f716a1ccb3d (http)\" id=c6ea16239c7fcfbc status=200 dur=209.77µs\n"
          ],
          "name": "stderr"
        }
      ]
    },
    {
      "cell_type": "code",
      "metadata": {
        "colab": {
          "base_uri": "https://localhost:8080/"
        },
        "id": "zdxqBCn1rrsX",
        "outputId": "5eb8dfd7-e6d8-4158-a7a4-50c256503559"
      },
      "source": [
        "!nohup"
      ],
      "execution_count": 14,
      "outputs": [
        {
          "output_type": "stream",
          "text": [
            "nohup: missing operand\n",
            "Try 'nohup --help' for more information.\n"
          ],
          "name": "stdout"
        }
      ]
    },
    {
      "cell_type": "code",
      "metadata": {
        "colab": {
          "base_uri": "https://localhost:8080/"
        },
        "id": "AeqWksgnsZjF",
        "outputId": "5642df47-c6c1-4784-873d-68586cc09599"
      },
      "source": [
        "public_url"
      ],
      "execution_count": 31,
      "outputs": [
        {
          "output_type": "execute_result",
          "data": {
            "text/plain": [
              "<NgrokTunnel: \"http://3204a7bdbf64.ngrok.io\" -> \"http://localhost:80\">"
            ]
          },
          "metadata": {
            "tags": []
          },
          "execution_count": 31
        }
      ]
    },
    {
      "cell_type": "code",
      "metadata": {
        "id": "ZD1bEXwZtJw0"
      },
      "source": [
        "ngrok.kill()"
      ],
      "execution_count": 14,
      "outputs": []
    }
  ]
}